{
 "cells": [
  {
   "cell_type": "code",
   "execution_count": 2,
   "metadata": {},
   "outputs": [
    {
     "name": "stdout",
     "output_type": "stream",
     "text": [
      "Connected RealSense devices:\n",
      "Device 0: 126122270638\n",
      "Device 1: 233722070172\n"
     ]
    }
   ],
   "source": [
    "import pyrealsense2 as rs\n",
    "\n",
    "ctx = rs.context()\n",
    "devices = ctx.query_devices()\n",
    "print(\"Connected RealSense devices:\")\n",
    "\n",
    "for i, dev in enumerate(devices):\n",
    "    print(f\"Device {i}: {dev.get_info(rs.camera_info.serial_number)}\")\n"
   ]
  },
  {
   "cell_type": "code",
   "execution_count": 5,
   "metadata": {},
   "outputs": [
    {
     "data": {
      "text/plain": [
       "<pyrealsense2.device: D435I (S/N: 233722070172  FW: 5.13.0.55  on USB3.2)>"
      ]
     },
     "execution_count": 5,
     "metadata": {},
     "output_type": "execute_result"
    }
   ],
   "source": [
    "devices[1]"
   ]
  }
 ],
 "metadata": {
  "kernelspec": {
   "display_name": "pusht_real",
   "language": "python",
   "name": "python3"
  },
  "language_info": {
   "codemirror_mode": {
    "name": "ipython",
    "version": 3
   },
   "file_extension": ".py",
   "mimetype": "text/x-python",
   "name": "python",
   "nbconvert_exporter": "python",
   "pygments_lexer": "ipython3",
   "version": "3.9.21"
  }
 },
 "nbformat": 4,
 "nbformat_minor": 2
}
