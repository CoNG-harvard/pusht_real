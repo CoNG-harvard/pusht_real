{
 "cells": [
  {
   "cell_type": "code",
   "execution_count": 3,
   "metadata": {},
   "outputs": [],
   "source": [
    "from cv2 import aruco\n",
    "import matplotlib.pyplot as plt\n",
    "import matplotlib as mpl"
   ]
  },
  {
   "cell_type": "code",
   "execution_count": 5,
   "metadata": {},
   "outputs": [],
   "source": [
    "import cv2\n",
    "ARUCO_DICT = {\n",
    "                \"DICT_4X4_50\": cv2.aruco.DICT_4X4_50,\n",
    "                \"DICT_4X4_100\": cv2.aruco.DICT_4X4_100,\n",
    "                \"DICT_4X4_250\": cv2.aruco.DICT_4X4_250,\n",
    "                \"DICT_4X4_1000\": cv2.aruco.DICT_4X4_1000,\n",
    "                \"DICT_5X5_50\": cv2.aruco.DICT_5X5_50,\n",
    "                \"DICT_5X5_100\": cv2.aruco.DICT_5X5_100,\n",
    "                \"DICT_5X5_250\": cv2.aruco.DICT_5X5_250,\n",
    "                \"DICT_5X5_1000\": cv2.aruco.DICT_5X5_1000,\n",
    "                \"DICT_6X6_50\": cv2.aruco.DICT_6X6_50,\n",
    "                \"DICT_6X6_100\": cv2.aruco.DICT_6X6_100,\n",
    "                \"DICT_6X6_250\": cv2.aruco.DICT_6X6_250,\n",
    "                \"DICT_6X6_1000\": cv2.aruco.DICT_6X6_1000,\n",
    "                \"DICT_7X7_50\": cv2.aruco.DICT_7X7_50,\n",
    "                \"DICT_7X7_100\": cv2.aruco.DICT_7X7_100,\n",
    "                \"DICT_7X7_250\": cv2.aruco.DICT_7X7_250,\n",
    "                \"DICT_7X7_1000\": cv2.aruco.DICT_7X7_1000,\n",
    "                \"DICT_ARUCO_ORIGINAL\": cv2.aruco.DICT_ARUCO_ORIGINAL,\n",
    "                \"DICT_APRILTAG_16h5\": cv2.aruco.DICT_APRILTAG_16h5,\n",
    "                \"DICT_APRILTAG_25h9\": cv2.aruco.DICT_APRILTAG_25h9,\n",
    "                \"DICT_APRILTAG_36h10\": cv2.aruco.DICT_APRILTAG_36h10,\n",
    "                \"DICT_APRILTAG_36h11\": cv2.aruco.DICT_APRILTAG_36h11\n",
    "            }\n"
   ]
  },
  {
   "cell_type": "code",
   "execution_count": 1,
   "metadata": {},
   "outputs": [
    {
     "ename": "ModuleNotFoundError",
     "evalue": "No module named 'cv2.aruco'",
     "output_type": "error",
     "traceback": [
      "\u001b[0;31m---------------------------------------------------------------------------\u001b[0m",
      "\u001b[0;31mModuleNotFoundError\u001b[0m                       Traceback (most recent call last)",
      "Cell \u001b[0;32mIn[1], line 2\u001b[0m\n\u001b[1;32m      1\u001b[0m \u001b[38;5;28;01mimport\u001b[39;00m \u001b[38;5;21;01mcv2\u001b[39;00m\n\u001b[0;32m----> 2\u001b[0m \u001b[38;5;28;01mimport\u001b[39;00m \u001b[38;5;21;01mcv2\u001b[39;00m\u001b[38;5;21;01m.\u001b[39;00m\u001b[38;5;21;01maruco\u001b[39;00m \u001b[38;5;28;01mas\u001b[39;00m \u001b[38;5;21;01maruco\u001b[39;00m\n\u001b[1;32m      3\u001b[0m \u001b[38;5;28;01mimport\u001b[39;00m \u001b[38;5;21;01mos\u001b[39;00m\n\u001b[1;32m      5\u001b[0m \u001b[38;5;66;03m# Settings\u001b[39;00m\n",
      "\u001b[0;31mModuleNotFoundError\u001b[0m: No module named 'cv2.aruco'"
     ]
    }
   ],
   "source": [
    "import cv2\n",
    "import cv2.aruco as aruco\n",
    "import os\n",
    "\n",
    "# Settings\n",
    "aruco_dict_type = aruco.DICT_4X4_50  # You can change to DICT_5X5_100, DICT_6X6_250, etc.\n",
    "marker_ids = range(10)  # Generate marker IDs 0 to 9\n",
    "marker_size = 700  # Marker size in pixels (for print quality)\n",
    "output_dir = \"aruco_markers\"\n",
    "\n",
    "# Create output directory if it doesn't exist\n",
    "os.makedirs(output_dir, exist_ok=True)\n",
    "\n",
    "# Load the ArUco dictionary\n",
    "aruco_dict = aruco.getPredefinedDictionary(aruco_dict_type)\n",
    "\n",
    "# Generate and save each marker\n",
    "for marker_id in marker_ids:\n",
    "    marker_image = aruco.drawMarker(aruco_dict, marker_id, marker_size)\n",
    "    filename = f\"{output_dir}/aruco_{marker_id}.png\"\n",
    "    cv2.imwrite(filename, marker_image)\n",
    "\n",
    "print(f\"Generated {len(marker_ids)} markers in '{output_dir}' folder.\")\n"
   ]
  }
 ],
 "metadata": {
  "kernelspec": {
   "display_name": "cv2",
   "language": "python",
   "name": "python3"
  },
  "language_info": {
   "codemirror_mode": {
    "name": "ipython",
    "version": 3
   },
   "file_extension": ".py",
   "mimetype": "text/x-python",
   "name": "python",
   "nbconvert_exporter": "python",
   "pygments_lexer": "ipython3",
   "version": "3.8.18"
  }
 },
 "nbformat": 4,
 "nbformat_minor": 2
}
