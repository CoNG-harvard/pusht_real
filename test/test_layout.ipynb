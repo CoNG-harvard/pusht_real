{
 "cells": [
  {
   "cell_type": "code",
   "execution_count": 1,
   "metadata": {},
   "outputs": [
    {
     "data": {
      "text/plain": [
       "{'shape': 'cee',\n",
       " 'marker_num': 3,\n",
       " 'marker_size': 38,\n",
       " 'markers': [{'id': 3, 'rvec': [0, 0, 0], 'tvec': [0.0, 0.0248, 0.0]},\n",
       "  {'id': 4, 'rvec': [0, 0, 0], 'tvec': [0.0753, 1.731, 0.0]},\n",
       "  {'id': 5, 'rvec': [0, 0, 0], 'tvec': [-0.075, -1.734, 0.0]}]}"
      ]
     },
     "execution_count": 1,
     "metadata": {},
     "output_type": "execute_result"
    }
   ],
   "source": [
    "import yaml\n",
    "with open(\"../data/marker_layout.yaml\", \"r\") as f:\n",
    "    config = yaml.safe_load(f)\n",
    "    \n",
    "config[0]"
   ]
  },
  {
   "cell_type": "code",
   "execution_count": 4,
   "metadata": {},
   "outputs": [
    {
     "data": {
      "text/plain": [
       "[{'id': 1,\n",
       "  'trvec': [-0.550012076908581,\n",
       "   -0.13561976178642243,\n",
       "   0.021893596212430533,\n",
       "   -0.027869427155159512,\n",
       "   -0.023788218849290155,\n",
       "   0.002825450256549731]},\n",
       " {'id': 1,\n",
       "  'trvec': [-0.15526621671472093,\n",
       "   -0.136582280659702,\n",
       "   0.019809433424865686,\n",
       "   -0.016658266107024835,\n",
       "   -0.021690064246197634,\n",
       "   -1.5931414212776693]},\n",
       " {'id': 1,\n",
       "  'trvec': [-0.1472331164844872,\n",
       "   -0.5273596869532101,\n",
       "   0.01861218076286625,\n",
       "   -0.015116961654100204,\n",
       "   -0.00918845405239458,\n",
       "   -0.008603510644793833]},\n",
       " {'id': 1,\n",
       "  'trvec': [-0.5327389470707208,\n",
       "   -0.5279157021236764,\n",
       "   0.01595456001310752,\n",
       "   -0.01411499817506995,\n",
       "   0.051724679285602704,\n",
       "   -0.0018789870465848746]}]"
      ]
     },
     "execution_count": 4,
     "metadata": {},
     "output_type": "execute_result"
    }
   ],
   "source": [
    "with open(\"../data/marker_on_table.yaml\", \"r\") as f:\n",
    "    config = yaml.safe_load(f)\n",
    "    \n",
    "config"
   ]
  }
 ],
 "metadata": {
  "kernelspec": {
   "display_name": "pusht_real",
   "language": "python",
   "name": "python3"
  },
  "language_info": {
   "codemirror_mode": {
    "name": "ipython",
    "version": 3
   },
   "file_extension": ".py",
   "mimetype": "text/x-python",
   "name": "python",
   "nbconvert_exporter": "python",
   "pygments_lexer": "ipython3",
   "version": "3.9.21"
  }
 },
 "nbformat": 4,
 "nbformat_minor": 2
}
