{
  "cells": [
    {
      "cell_type": "markdown",
      "metadata": {},
      "source": [
        "# Point Cloud Visualization with Axis-Aligned Bounding Box\n",
        "\n",
        "This notebook demonstrates how to load and visualize a 3D point cloud from a PLY file, along with its axis-aligned bounding box.\n",
        "\n",
        "## Features:\n",
        "- Load point cloud from PLY file (both ASCII and binary formats)\n",
        "- Display point cloud with height-based coloring if no colors are present\n",
        "- Show axis-aligned bounding box\n",
        "- Interactive 3D visualization with Open3D\n",
        "- Point cloud statistics and analysis\n",
        "- Coordinate frame for reference\n"
      ]
    },
    {
      "cell_type": "code",
      "execution_count": 1,
      "metadata": {},
      "outputs": [
        {
          "name": "stdout",
          "output_type": "stream",
          "text": [
            "Jupyter environment detected. Enabling Open3D WebVisualizer.\n",
            "[Open3D INFO] WebRTC GUI backend enabled.\n",
            "[Open3D INFO] WebRTCWindowSystem: HTTP handshake server disabled.\n",
            "Notebook directory: /home/mht/PycharmProjects/pusht_real/test/point_clouds\n",
            "Point cloud path: /home/mht/PycharmProjects/pusht_real/test/point_clouds/t_pcd.ply\n",
            "Point cloud exists: True\n"
          ]
        }
      ],
      "source": [
        "# Import required libraries\n",
        "import open3d as o3d\n",
        "import numpy as np\n",
        "import os\n",
        "import matplotlib.pyplot as plt\n",
        "from pathlib import Path\n",
        "\n",
        "# Set up paths\n",
        "notebook_dir = Path.cwd()\n",
        "point_cloud_path = notebook_dir / \"t_pcd.ply\"\n",
        "\n",
        "print(f\"Notebook directory: {notebook_dir}\")\n",
        "print(f\"Point cloud path: {point_cloud_path}\")\n",
        "print(f\"Point cloud exists: {point_cloud_path.exists()}\")\n"
      ]
    },
    {
      "cell_type": "code",
      "execution_count": 2,
      "metadata": {},
      "outputs": [
        {
          "name": "stdout",
          "output_type": "stream",
          "text": [
            "Loading point cloud from: /home/mht/PycharmProjects/pusht_real/test/point_clouds/t_pcd.ply\n",
            "Point cloud loaded successfully!\n",
            "Number of points: 10000\n",
            "Has colors: False\n",
            "Has normals: False\n",
            "Bounding box min: [-100. -175.    0.]\n",
            "Bounding box max: [100.  25.  40.]\n",
            "Bounding box size: [200. 200.  40.]\n",
            "Center: [-0.7901, -44.3822, 19.7372]\n",
            "Dimensions: [200.0000, 200.0000, 40.0000]\n"
          ]
        }
      ],
      "source": [
        "def load_and_analyze_point_cloud(file_path):\n",
        "    \"\"\"\n",
        "    Load a point cloud from PLY file and return analysis information\n",
        "    \"\"\"\n",
        "    print(f\"Loading point cloud from: {file_path}\")\n",
        "    \n",
        "    # Load the point cloud\n",
        "    pcd = o3d.io.read_point_cloud(str(file_path))\n",
        "    \n",
        "    if len(pcd.points) == 0:\n",
        "        print(\"Error: Could not load point cloud or point cloud is empty\")\n",
        "        return None, None\n",
        "    \n",
        "    print(f\"Point cloud loaded successfully!\")\n",
        "    print(f\"Number of points: {len(pcd.points)}\")\n",
        "    print(f\"Has colors: {pcd.has_colors()}\")\n",
        "    print(f\"Has normals: {pcd.has_normals()}\")\n",
        "    \n",
        "    # Get point cloud bounds\n",
        "    bbox = pcd.get_axis_aligned_bounding_box()\n",
        "    print(f\"Bounding box min: {bbox.min_bound}\")\n",
        "    print(f\"Bounding box max: {bbox.max_bound}\")\n",
        "    print(f\"Bounding box size: {bbox.max_bound - bbox.min_bound}\")\n",
        "    \n",
        "    # Calculate additional statistics\n",
        "    points = np.asarray(pcd.points)\n",
        "    center = np.mean(points, axis=0)\n",
        "    dimensions = points.max(axis=0) - points.min(axis=0)\n",
        "    \n",
        "    print(f\"Center: [{center[0]:.4f}, {center[1]:.4f}, {center[2]:.4f}]\")\n",
        "    print(f\"Dimensions: [{dimensions[0]:.4f}, {dimensions[1]:.4f}, {dimensions[2]:.4f}]\")\n",
        "    \n",
        "    return pcd, bbox\n",
        "\n",
        "# Load and analyze the point cloud\n",
        "if point_cloud_path.exists():\n",
        "    pcd, bbox = load_and_analyze_point_cloud(point_cloud_path)\n",
        "else:\n",
        "    print(f\"Point cloud file not found at {point_cloud_path}\")\n",
        "    pcd, bbox = None, None\n"
      ]
    },
    {
      "cell_type": "code",
      "execution_count": 3,
      "metadata": {},
      "outputs": [
        {
          "name": "stdout",
          "output_type": "stream",
          "text": [
            "Added height-based coloring to point cloud (blue=low, red=high)\n"
          ]
        }
      ],
      "source": [
        "def add_height_coloring(pcd):\n",
        "    \"\"\"\n",
        "    Add height-based coloring to point cloud if it doesn't have colors\n",
        "    \"\"\"\n",
        "    if pcd.has_colors():\n",
        "        print(\"Point cloud already has colors, keeping original colors\")\n",
        "        return pcd\n",
        "    \n",
        "    points = np.asarray(pcd.points)\n",
        "    z_coords = points[:, 2]\n",
        "    z_min, z_max = z_coords.min(), z_coords.max()\n",
        "    \n",
        "    # Normalize Z coordinates to 0-1 range\n",
        "    z_normalized = (z_coords - z_min) / (z_max - z_min) if z_max > z_min else np.zeros_like(z_coords)\n",
        "    \n",
        "    # Create colors based on height (blue to red gradient)\n",
        "    colors = np.zeros((len(points), 3))\n",
        "    colors[:, 0] = z_normalized  # Red channel\n",
        "    colors[:, 2] = 1 - z_normalized  # Blue channel\n",
        "    \n",
        "    pcd.colors = o3d.utility.Vector3dVector(colors)\n",
        "    print(\"Added height-based coloring to point cloud (blue=low, red=high)\")\n",
        "    return pcd\n",
        "\n",
        "# Add coloring if needed\n",
        "if pcd is not None:\n",
        "    pcd = add_height_coloring(pcd)\n"
      ]
    },
    {
      "cell_type": "code",
      "execution_count": 4,
      "metadata": {},
      "outputs": [
        {
          "name": "stdout",
          "output_type": "stream",
          "text": [
            "Created visualization objects:\n",
            "- Point cloud: 10000 points\n",
            "- Bounding box wireframe: 12 lines\n",
            "- Coordinate frame: size 0.1\n"
          ]
        }
      ],
      "source": [
        "def create_bbox_visualization(bbox, color=[1, 0, 0]):\n",
        "    \"\"\"\n",
        "    Create a wireframe visualization of the axis-aligned bounding box\n",
        "    \"\"\"\n",
        "    # Create a wireframe box\n",
        "    bbox_wireframe = o3d.geometry.LineSet.create_from_axis_aligned_bounding_box(bbox)\n",
        "    bbox_wireframe.colors = o3d.utility.Vector3dVector([color for _ in range(len(bbox_wireframe.lines))])\n",
        "    return bbox_wireframe\n",
        "\n",
        "def create_coordinate_frame(size=0.1):\n",
        "    \"\"\"\n",
        "    Create a coordinate frame for reference\n",
        "    \"\"\"\n",
        "    return o3d.geometry.TriangleMesh.create_coordinate_frame(size=size)\n",
        "\n",
        "# Create visualization objects\n",
        "if pcd is not None and bbox is not None:\n",
        "    # Create bounding box wireframe (red color)\n",
        "    bbox_wireframe = create_bbox_visualization(bbox, color=[1, 0, 0])\n",
        "    \n",
        "    # Create coordinate frame\n",
        "    coordinate_frame = create_coordinate_frame(size=0.1)\n",
        "    \n",
        "    print(\"Created visualization objects:\")\n",
        "    print(f\"- Point cloud: {len(pcd.points)} points\")\n",
        "    print(f\"- Bounding box wireframe: {len(bbox_wireframe.lines)} lines\")\n",
        "    print(f\"- Coordinate frame: size {0.1}\")\n",
        "else:\n",
        "    print(\"Cannot create visualization objects - point cloud not loaded\")\n"
      ]
    },
    {
      "cell_type": "markdown",
      "metadata": {},
      "source": [
        "## 3D Visualization\n",
        "\n",
        "The following cell will open an interactive 3D visualization window showing:\n",
        "- **Point cloud** (colored by height if no original colors)\n",
        "- **Red wireframe bounding box** (axis-aligned)\n",
        "- **Coordinate frame** (X=red, Y=green, Z=blue)\n",
        "\n",
        "### Controls:\n",
        "- **Mouse**: Rotate view\n",
        "- **Mouse wheel**: Zoom in/out  \n",
        "- **Right mouse + drag**: Pan\n",
        "- **Press 'R'**: Reset view\n",
        "- **Press 'Q' or close window**: Exit\n"
      ]
    },
    {
      "cell_type": "code",
      "execution_count": 5,
      "metadata": {},
      "outputs": [
        {
          "name": "stdout",
          "output_type": "stream",
          "text": [
            "Opening 3D visualization window...\n",
            "Close the window when done viewing.\n",
            "3D visualization closed.\n"
          ]
        }
      ],
      "source": [
        "# Interactive 3D visualization\n",
        "if pcd is not None and bbox is not None:\n",
        "    print(\"Opening 3D visualization window...\")\n",
        "    print(\"Close the window when done viewing.\")\n",
        "    \n",
        "    # Combine all visualization objects\n",
        "    geometries = [pcd, bbox_wireframe, coordinate_frame]\n",
        "    \n",
        "    # Start the visualization\n",
        "    o3d.visualization.draw_geometries(\n",
        "        geometries,\n",
        "        window_name=\"Point Cloud with Axis-Aligned Bounding Box\",\n",
        "        width=1200, \n",
        "        height=800,\n",
        "        left=50,\n",
        "        top=50\n",
        "    )\n",
        "    \n",
        "    print(\"3D visualization closed.\")\n",
        "else:\n",
        "    print(\"Cannot visualize - point cloud not loaded\")\n"
      ]
    },
    {
      "cell_type": "code",
      "execution_count": null,
      "metadata": {},
      "outputs": [],
      "source": []
    }
  ],
  "metadata": {
    "kernelspec": {
      "display_name": "pusht_real",
      "language": "python",
      "name": "python3"
    },
    "language_info": {
      "codemirror_mode": {
        "name": "ipython",
        "version": 3
      },
      "file_extension": ".py",
      "mimetype": "text/x-python",
      "name": "python",
      "nbconvert_exporter": "python",
      "pygments_lexer": "ipython3",
      "version": "3.9.21"
    }
  },
  "nbformat": 4,
  "nbformat_minor": 2
}
